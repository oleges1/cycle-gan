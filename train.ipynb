{
 "cells": [
  {
   "cell_type": "code",
   "execution_count": 1,
   "metadata": {},
   "outputs": [],
   "source": [
    "from unet import *\n",
    "from datasets.cityscapes import *\n",
    "from datasets.cycle import *\n",
    "from discriminator import Discriminator\n",
    "from torch import nn\n",
    "from torch.utils.data import DataLoader\n",
    "import itertools\n",
    "from tensorboardX import SummaryWriter\n",
    "from tqdm import tqdm\n",
    "from utils import *"
   ]
  },
  {
   "cell_type": "code",
   "execution_count": 2,
   "metadata": {},
   "outputs": [],
   "source": [
    "writer = SummaryWriter(\"edges2shoes\")"
   ]
  },
  {
   "cell_type": "code",
   "execution_count": 3,
   "metadata": {},
   "outputs": [],
   "source": [
    "lambda_idt = 0\n",
    "lambda_C = 0.5\n",
    "lambda_D = 0.5\n",
    "lr = 0.0002\n",
    "beta1 = 0.5\n",
    "verbose_period = 50\n",
    "epochs = 100"
   ]
  },
  {
   "cell_type": "code",
   "execution_count": 4,
   "metadata": {},
   "outputs": [
    {
     "name": "stdout",
     "output_type": "stream",
     "text": [
      "initialize network with normal\n",
      "initialize network with normal\n",
      "initialize network with normal\n",
      "initialize network with normal\n"
     ]
    }
   ],
   "source": [
    "genAB = UNet(3, 3, bilinear=False).cuda()\n",
    "init_weights(genAB, 'normal')\n",
    "genBA = UNet(3, 3, bilinear=False).cuda()\n",
    "init_weights(genBA, 'normal')\n",
    "discrA = Discriminator(3).cuda()\n",
    "init_weights(discrA, 'normal')\n",
    "discrB = Discriminator(3).cuda()\n",
    "init_weights(discrB, 'normal')"
   ]
  },
  {
   "cell_type": "code",
   "execution_count": 5,
   "metadata": {},
   "outputs": [],
   "source": [
    "# data_train = CityScapes()\n",
    "# data_test = CityScapes('test')"
   ]
  },
  {
   "cell_type": "code",
   "execution_count": 6,
   "metadata": {},
   "outputs": [],
   "source": [
    "data_train = CycleDataset('data/edges2shoes/', 'train')\n",
    "data_test = CycleDataset('data/edges2shoes/', 'val')"
   ]
  },
  {
   "cell_type": "code",
   "execution_count": 7,
   "metadata": {},
   "outputs": [],
   "source": [
    "train_dataloader = DataLoader(data_train, batch_size=8, shuffle=True, num_workers=4)"
   ]
  },
  {
   "cell_type": "code",
   "execution_count": 8,
   "metadata": {},
   "outputs": [],
   "source": [
    "idt_loss = nn.L1Loss()\n",
    "cycle_consistency = nn.L1Loss()\n",
    "discriminator_loss = nn.BCELoss()"
   ]
  },
  {
   "cell_type": "code",
   "execution_count": 9,
   "metadata": {},
   "outputs": [],
   "source": [
    "optG = torch.optim.Adam(itertools.chain(genAB.parameters(), genBA.parameters()), lr=lr, betas=(beta1, 0.999))\n",
    "optD = torch.optim.Adam(itertools.chain(discrA.parameters(), discrB.parameters()), lr=lr, betas=(beta1, 0.999))"
   ]
  },
  {
   "cell_type": "code",
   "execution_count": null,
   "metadata": {},
   "outputs": [
    {
     "name": "stderr",
     "output_type": "stream",
     "text": [
      "100%|██████████| 6229/6229 [1:08:15<00:00,  1.52it/s]\n",
      " 97%|█████████▋| 6066/6229 [1:06:39<01:46,  1.53it/s]"
     ]
    }
   ],
   "source": [
    "for epoch in range(epochs):\n",
    "    for i, (batch_A, batch_B) in enumerate(tqdm(train_dataloader)):\n",
    "        batch_A, batch_B = batch_A.cuda(), batch_B.cuda()\n",
    "        optG.zero_grad()\n",
    "        loss_G, loss_D = 0, 0\n",
    "        fake_B = genAB(batch_A)\n",
    "        cycle_A = genBA(fake_B)\n",
    "        fake_A = genBA(batch_B)\n",
    "        cycle_B = genAB(fake_A)\n",
    "        if lambda_idt > 0:\n",
    "            loss_G += idt_loss(fake_B, batch_B) * lambda_idt\n",
    "            loss_G += idt_loss(fake_A, batch_A) * lambda_idt\n",
    "        if lambda_C > 0:\n",
    "            loss_G += cycle_consistency(cycle_A, batch_A) * lambda_C\n",
    "            loss_G += cycle_consistency(cycle_B, batch_B) * lambda_C\n",
    "        if lambda_D > 0:\n",
    "            set_requires_grad([discrA, discrB], False)\n",
    "            discr_feedbackA = discrA(fake_A)\n",
    "            discr_feedbackB = discrB(fake_B)\n",
    "#             print(discr_feedbackA)\n",
    "            loss_G += discriminator_loss(discr_feedbackA, torch.ones_like(discr_feedbackA)) * lambda_D\n",
    "            loss_G += discriminator_loss(discr_feedbackB, torch.ones_like(discr_feedbackB)) * lambda_D\n",
    "        loss_G.backward()\n",
    "        torch.nn.utils.clip_grad_norm_(itertools.chain(genAB.parameters(), genBA.parameters()), 15)\n",
    "        optG.step()\n",
    "        if lambda_D > 0:\n",
    "            set_requires_grad([discrA, discrB], True)\n",
    "            loss_D_fake, loss_D_true = 0, 0\n",
    "            optD.zero_grad()\n",
    "            logits = discrA(fake_A.detach())\n",
    "            loss_D_fake += discriminator_loss(logits, torch.zeros_like(logits))\n",
    "\n",
    "            logits = discrB(fake_B.detach())\n",
    "            loss_D_fake += discriminator_loss(logits, torch.zeros_like(logits))\n",
    "            loss_D_fake.backward()\n",
    "            torch.nn.utils.clip_grad_norm_(itertools.chain(discrA.parameters(), discrB.parameters()), 15)\n",
    "            optD.step()\n",
    "            \n",
    "            optD.zero_grad()\n",
    "            logits = discrA(batch_A)\n",
    "            loss_D_true += discriminator_loss(logits, torch.ones_like(logits))\n",
    "            logits = discrB(batch_B)\n",
    "            loss_D_true += discriminator_loss(logits, torch.ones_like(logits))\n",
    "            loss_D_true.backward()\n",
    "            torch.nn.utils.clip_grad_norm_(itertools.chain(discrA.parameters(), discrB.parameters()), 15)\n",
    "            optD.step()\n",
    "            loss_D = loss_D_fake + loss_D_true\n",
    "            \n",
    "        if (i % verbose_period == 0):\n",
    "            writer.add_scalar('train/loss_G', loss_G.item(), len(train_dataloader) * epoch + i)\n",
    "            if lambda_D > 0:\n",
    "                writer.add_scalar('train/loss_D', loss_D.item(), len(train_dataloader) * epoch + i)\n",
    "                writer.add_scalar('train/mean_D_A', discr_feedbackA.mean().item(), len(train_dataloader) * epoch + i)\n",
    "                writer.add_scalar('train/mean_D_B', discr_feedbackB.mean().item(), len(train_dataloader) * epoch + i)\n",
    "            for batch_i in range(fake_A.shape[0]):\n",
    "                concat = torch.cat([fake_A[batch_i], batch_B[batch_i]], dim=-1)\n",
    "                writer.add_image('fake_A_' + str(batch_i), concat, len(train_dataloader) * epoch + i)\n",
    "            for batch_i in range(fake_B.shape[0]):\n",
    "                concat = torch.cat([fake_B[batch_i], batch_A[batch_i]], dim=-1)\n",
    "                writer.add_image('fake_B_' + str(batch_i), concat, len(train_dataloader) * epoch + i)"
   ]
  },
  {
   "cell_type": "code",
   "execution_count": 15,
   "metadata": {},
   "outputs": [],
   "source": [
    "torch.save({\n",
    "    'genAB': genAB.state_dict(),\n",
    "    'genBA': genBA.state_dict(),\n",
    "    'discrA': discrA.state_dict(),\n",
    "    'discrB': discrB.state_dict(),\n",
    "    'optG': optG.state_dict(),\n",
    "    'optD': optD.state_dict(),\n",
    "    'epoch': epoch\n",
    "}, 'edges2shoes/model.pth')"
   ]
  },
  {
   "cell_type": "code",
   "execution_count": null,
   "metadata": {},
   "outputs": [],
   "source": []
  }
 ],
 "metadata": {
  "kernelspec": {
   "display_name": "Python 3.5",
   "language": "python",
   "name": "python3"
  },
  "language_info": {
   "codemirror_mode": {
    "name": "ipython",
    "version": 3
   },
   "file_extension": ".py",
   "mimetype": "text/x-python",
   "name": "python",
   "nbconvert_exporter": "python",
   "pygments_lexer": "ipython3",
   "version": "3.5.5"
  }
 },
 "nbformat": 4,
 "nbformat_minor": 4
}
